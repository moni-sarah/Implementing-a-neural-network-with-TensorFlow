# Step 1: Install TensorFlow (only if not installed)
# !pip install tensorflow  # Uncomment this line if running in a new environment

# Step 2: Import required libraries
import tensorflow as tf
from tensorflow.keras import layers, models

# Step 3: Load and preprocess the Fashion MNIST dataset
(train_images, train_labels), (test_images, test_labels) = tf.keras.datasets.fashion_mnist.load_data()

# Normalize the pixel values to be between 0 and 1
train_images = train_images / 255.0
test_images = test_images / 255.0

# Step 4: Define the model
model = models.Sequential([
    layers.Flatten(input_shape=(28, 28)),        # Input layer
    layers.Dense(128, activation='relu'),        # Hidden layer
    layers.Dense(10, activation='softmax')       # Output layer
])

# Step 5: Compile the model
model.compile(optimizer='adam',
              loss='sparse_categorical_crossentropy',
              metrics=['accuracy'])

# Step 6: Train the model
model.fit(train_images, train_labels, epochs=10, batch_size=32)

# Step 7: Evaluate the model
test_loss, test_acc = model.evaluate(test_images, test_labels)
print(f"✅ Test accuracy: {test_acc:.4f}")
